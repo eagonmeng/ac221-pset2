{
 "cells": [
  {
   "cell_type": "code",
   "execution_count": 1,
   "metadata": {},
   "outputs": [],
   "source": [
    "import pandas as pd\n",
    "import csv\n",
    "import io"
   ]
  },
  {
   "cell_type": "code",
   "execution_count": 63,
   "metadata": {},
   "outputs": [],
   "source": [
    "class CSVCleaner:\n",
    "    def __init__(self, csvfile):\n",
    "        self.filename = csvfile\n",
    "        self.cleaned = None\n",
    "    \n",
    "        # Read raw csv data\n",
    "        self.read_raw_csv()\n",
    "    \n",
    "    def read_raw_csv(self):\n",
    "        ''' Reading raw input from a csv file.\n",
    "\n",
    "        Reads a csv file and returns a list of all lines.\n",
    "        '''\n",
    "        with io.open(self.filename, newline=None, encoding='utf-8') as f:\n",
    "            data = f.read().splitlines()\n",
    "            self.header = data[0].split(',')\n",
    "            self.raw_data = [tuple(line.split(',')) for line in data[1:]]\n",
    "        \n",
    "        self.cleaned = self.raw_data\n",
    "    \n",
    "    def remove_duplicates(self):\n",
    "        ''' Remove all duplicate lines in the data.\n",
    "        '''\n",
    "        cleaned = list(dict.fromkeys(self.cleaned))\n",
    "        self.num_duplicates = len(self.cleaned) - len(cleaned)\n",
    "        self.cleaned = cleaned\n",
    "        \n",
    "        return self\n",
    "    \n",
    "    def remove_corrupt(self):\n",
    "        ''' Remove all corrupt lines in the data.\n",
    "        \n",
    "        Corrupt lines are defined for us as those that will\n",
    "        not fit in a dataframe - that is, those that have a different\n",
    "        column count as our header.\n",
    "        '''\n",
    "        cleaned = []\n",
    "        self.num_corrupt = 0\n",
    "        \n",
    "        col_count = len(self.header)\n",
    "        \n",
    "        for row in self.cleaned:\n",
    "            if len(row) == col_count:\n",
    "                cleaned.append(row)\n",
    "            else:\n",
    "                self.num_corrupt += 1\n",
    "                \n",
    "        self.cleaned = cleaned\n",
    "        return self\n",
    "    \n",
    "    def dataframe(self):\n",
    "        ''' Return a pandas dataframe of the cleaned data.\n",
    "        '''\n",
    "        return None\n",
    "    \n",
    "    def __repr__(self):\n",
    "        return \"CSVCleaner(file='%s')\" % (self.filename)"
   ]
  },
  {
   "cell_type": "code",
   "execution_count": 72,
   "metadata": {},
   "outputs": [],
   "source": [
    "csvfile = 'dirty_sample_small.csv'\n",
    "\n",
    "dup_corr_cleaner = CSVCleaner(csvfile).remove_duplicates().remove_corrupt()\n",
    "corr_dup_cleaner = CSVCleaner(csvfile).remove_corrupt().remove_duplicates()"
   ]
  },
  {
   "cell_type": "code",
   "execution_count": 85,
   "metadata": {},
   "outputs": [],
   "source": [
    "def get_stats(cleaner, title):\n",
    "    print(title)\n",
    "    print('Total entries: ', len(cleaner.raw_data))\n",
    "    print('Cleaned entries: ', len(cleaner.cleaned))\n",
    "    print('Number of duplicates removed:' , cleaner.num_duplicates)\n",
    "    print('Number of corrupt entries removed: ', cleaner.num_corrupt)"
   ]
  },
  {
   "cell_type": "code",
   "execution_count": 86,
   "metadata": {},
   "outputs": [
    {
     "name": "stdout",
     "output_type": "stream",
     "text": [
      "Duplicates removed first, then corrupt:\n",
      "\n",
      "Total entries:  661486\n",
      "Cleaned entries:  49981\n",
      "Number of duplicates removed: 604264\n",
      "Number of corrupt entries removed:  7241\n"
     ]
    }
   ],
   "source": [
    "get_stats(dup_corr_cleaner, 'Duplicates removed first, then corrupt:\\n')"
   ]
  },
  {
   "cell_type": "code",
   "execution_count": 87,
   "metadata": {},
   "outputs": [
    {
     "name": "stdout",
     "output_type": "stream",
     "text": [
      "Corrupt removed first, then duplicates:\n",
      "\n",
      "Total entries:  661486\n",
      "Cleaned entries:  49981\n",
      "Number of duplicates removed: 595797\n",
      "Number of corrupt entries removed:  15708\n"
     ]
    }
   ],
   "source": [
    "get_stats(corr_dup_cleaner, 'Corrupt removed first, then duplicates:\\n')"
   ]
  },
  {
   "cell_type": "code",
   "execution_count": null,
   "metadata": {},
   "outputs": [],
   "source": []
  }
 ],
 "metadata": {
  "kernelspec": {
   "display_name": "Python 3",
   "language": "python",
   "name": "python3"
  },
  "language_info": {
   "codemirror_mode": {
    "name": "ipython",
    "version": 3
   },
   "file_extension": ".py",
   "mimetype": "text/x-python",
   "name": "python",
   "nbconvert_exporter": "python",
   "pygments_lexer": "ipython3",
   "version": "3.7.0"
  }
 },
 "nbformat": 4,
 "nbformat_minor": 2
}
